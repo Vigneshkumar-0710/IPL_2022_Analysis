{
 "cells": [
  {
   "cell_type": "code",
   "execution_count": 205,
   "id": "9f071e75",
   "metadata": {},
   "outputs": [],
   "source": [
    "import pandas as pd\n",
    "import numpy as np\n",
    "import seaborn as sns\n",
    "import  matplotlib.pyplot as plt\n",
    "\n",
    "%matplotlib inline\n",
    "\n",
    "import warnings \n",
    "warnings.filterwarnings('ignore')"
   ]
  },
  {
   "cell_type": "code",
   "execution_count": 206,
   "id": "0b22f70d",
   "metadata": {},
   "outputs": [],
   "source": [
    "ipl = pd.read_csv('C:/Users/Student/Downloads/ipl_2022_dataset.csv')"
   ]
  },
  {
   "cell_type": "code",
   "execution_count": 207,
   "id": "ac18c2d7",
   "metadata": {},
   "outputs": [
    {
     "name": "stdout",
     "output_type": "stream",
     "text": [
      "<class 'pandas.core.frame.DataFrame'>\n",
      "RangeIndex: 633 entries, 0 to 632\n",
      "Data columns (total 8 columns):\n",
      " #   Column           Non-Null Count  Dtype  \n",
      "---  ------           --------------  -----  \n",
      " 0   Unnamed: 0       633 non-null    int64  \n",
      " 1   Player           633 non-null    object \n",
      " 2   Base Price       633 non-null    object \n",
      " 3   TYPE             633 non-null    object \n",
      " 4   COST IN ₹ (CR.)  237 non-null    float64\n",
      " 5   Cost IN $ (000)  237 non-null    float64\n",
      " 6   2021 Squad       199 non-null    object \n",
      " 7   Team             633 non-null    object \n",
      "dtypes: float64(2), int64(1), object(5)\n",
      "memory usage: 39.7+ KB\n"
     ]
    }
   ],
   "source": [
    "ipl.info()\n"
   ]
  },
  {
   "cell_type": "code",
   "execution_count": 208,
   "id": "1e22e8ae",
   "metadata": {},
   "outputs": [
    {
     "data": {
      "text/plain": [
       "Index(['Unnamed: 0', 'Player', 'Base Price', 'TYPE', 'COST IN ₹ (CR.)',\n",
       "       'Cost IN $ (000)', '2021 Squad', 'Team'],\n",
       "      dtype='object')"
      ]
     },
     "execution_count": 208,
     "metadata": {},
     "output_type": "execute_result"
    }
   ],
   "source": [
    "ipl.columns\n"
   ]
  },
  {
   "cell_type": "code",
   "execution_count": 209,
   "id": "0821bf08",
   "metadata": {},
   "outputs": [],
   "source": [
    "ipl.drop('Unnamed: 0',axis=1,inplace=True)"
   ]
  },
  {
   "cell_type": "code",
   "execution_count": 210,
   "id": "edceeebe",
   "metadata": {},
   "outputs": [
    {
     "data": {
      "text/html": [
       "<div>\n",
       "<style scoped>\n",
       "    .dataframe tbody tr th:only-of-type {\n",
       "        vertical-align: middle;\n",
       "    }\n",
       "\n",
       "    .dataframe tbody tr th {\n",
       "        vertical-align: top;\n",
       "    }\n",
       "\n",
       "    .dataframe thead th {\n",
       "        text-align: right;\n",
       "    }\n",
       "</style>\n",
       "<table border=\"1\" class=\"dataframe\">\n",
       "  <thead>\n",
       "    <tr style=\"text-align: right;\">\n",
       "      <th></th>\n",
       "      <th>Player</th>\n",
       "      <th>Base Price</th>\n",
       "      <th>TYPE</th>\n",
       "      <th>COST IN ₹ (CR.)</th>\n",
       "      <th>Cost IN $ (000)</th>\n",
       "      <th>2021 Squad</th>\n",
       "      <th>Team</th>\n",
       "    </tr>\n",
       "  </thead>\n",
       "  <tbody>\n",
       "    <tr>\n",
       "      <th>0</th>\n",
       "      <td>Rashid Khan</td>\n",
       "      <td>Draft Pick</td>\n",
       "      <td>BOWLER</td>\n",
       "      <td>15.0</td>\n",
       "      <td>1950.0</td>\n",
       "      <td>SRH</td>\n",
       "      <td>Gujarat Titans</td>\n",
       "    </tr>\n",
       "    <tr>\n",
       "      <th>1</th>\n",
       "      <td>Hardik Pandya</td>\n",
       "      <td>Draft Pick</td>\n",
       "      <td>ALL-ROUNDER</td>\n",
       "      <td>15.0</td>\n",
       "      <td>1950.0</td>\n",
       "      <td>MI</td>\n",
       "      <td>Gujarat Titans</td>\n",
       "    </tr>\n",
       "    <tr>\n",
       "      <th>2</th>\n",
       "      <td>Lockie Ferguson</td>\n",
       "      <td>2 Cr</td>\n",
       "      <td>BOWLER</td>\n",
       "      <td>10.0</td>\n",
       "      <td>1300.0</td>\n",
       "      <td>KKR</td>\n",
       "      <td>Gujarat Titans</td>\n",
       "    </tr>\n",
       "    <tr>\n",
       "      <th>3</th>\n",
       "      <td>Rahul Tewatia</td>\n",
       "      <td>40 Lakh</td>\n",
       "      <td>ALL-ROUNDER</td>\n",
       "      <td>9.0</td>\n",
       "      <td>1170.0</td>\n",
       "      <td>RR</td>\n",
       "      <td>Gujarat Titans</td>\n",
       "    </tr>\n",
       "    <tr>\n",
       "      <th>4</th>\n",
       "      <td>Shubman Gill</td>\n",
       "      <td>Draft Pick</td>\n",
       "      <td>BATTER</td>\n",
       "      <td>8.0</td>\n",
       "      <td>1040.0</td>\n",
       "      <td>KKR</td>\n",
       "      <td>Gujarat Titans</td>\n",
       "    </tr>\n",
       "  </tbody>\n",
       "</table>\n",
       "</div>"
      ],
      "text/plain": [
       "            Player  Base Price         TYPE  COST IN ₹ (CR.)  Cost IN $ (000)  \\\n",
       "0      Rashid Khan  Draft Pick       BOWLER             15.0           1950.0   \n",
       "1    Hardik Pandya  Draft Pick  ALL-ROUNDER             15.0           1950.0   \n",
       "2  Lockie Ferguson        2 Cr       BOWLER             10.0           1300.0   \n",
       "3    Rahul Tewatia     40 Lakh  ALL-ROUNDER              9.0           1170.0   \n",
       "4     Shubman Gill  Draft Pick       BATTER              8.0           1040.0   \n",
       "\n",
       "  2021 Squad            Team  \n",
       "0        SRH  Gujarat Titans  \n",
       "1         MI  Gujarat Titans  \n",
       "2        KKR  Gujarat Titans  \n",
       "3         RR  Gujarat Titans  \n",
       "4        KKR  Gujarat Titans  "
      ]
     },
     "execution_count": 210,
     "metadata": {},
     "output_type": "execute_result"
    }
   ],
   "source": [
    "ipl.head()"
   ]
  },
  {
   "cell_type": "code",
   "execution_count": 211,
   "id": "c120b94b",
   "metadata": {},
   "outputs": [
    {
     "data": {
      "text/plain": [
       "Player               0\n",
       "Base Price           0\n",
       "TYPE                 0\n",
       "COST IN ₹ (CR.)    396\n",
       "Cost IN $ (000)    396\n",
       "2021 Squad         434\n",
       "Team                 0\n",
       "dtype: int64"
      ]
     },
     "execution_count": 211,
     "metadata": {},
     "output_type": "execute_result"
    }
   ],
   "source": [
    "ipl.isnull().sum()"
   ]
  },
  {
   "cell_type": "code",
   "execution_count": 212,
   "id": "ea61b478",
   "metadata": {},
   "outputs": [
    {
     "data": {
      "text/html": [
       "<div>\n",
       "<style scoped>\n",
       "    .dataframe tbody tr th:only-of-type {\n",
       "        vertical-align: middle;\n",
       "    }\n",
       "\n",
       "    .dataframe tbody tr th {\n",
       "        vertical-align: top;\n",
       "    }\n",
       "\n",
       "    .dataframe thead th {\n",
       "        text-align: right;\n",
       "    }\n",
       "</style>\n",
       "<table border=\"1\" class=\"dataframe\">\n",
       "  <thead>\n",
       "    <tr style=\"text-align: right;\">\n",
       "      <th></th>\n",
       "      <th>Player</th>\n",
       "      <th>Base Price</th>\n",
       "      <th>TYPE</th>\n",
       "      <th>COST IN ₹ (CR.)</th>\n",
       "      <th>Cost IN $ (000)</th>\n",
       "      <th>2021 Squad</th>\n",
       "      <th>Team</th>\n",
       "    </tr>\n",
       "  </thead>\n",
       "  <tbody>\n",
       "    <tr>\n",
       "      <th>237</th>\n",
       "      <td>Suresh Raina</td>\n",
       "      <td>2 Cr</td>\n",
       "      <td>BATTER</td>\n",
       "      <td>NaN</td>\n",
       "      <td>NaN</td>\n",
       "      <td>CSK</td>\n",
       "      <td>Unsold</td>\n",
       "    </tr>\n",
       "    <tr>\n",
       "      <th>238</th>\n",
       "      <td>Steve Smith</td>\n",
       "      <td>2 Cr</td>\n",
       "      <td>BATTER</td>\n",
       "      <td>NaN</td>\n",
       "      <td>NaN</td>\n",
       "      <td>DC</td>\n",
       "      <td>Unsold</td>\n",
       "    </tr>\n",
       "    <tr>\n",
       "      <th>239</th>\n",
       "      <td>Shakib Al Hasan</td>\n",
       "      <td>2 Cr</td>\n",
       "      <td>ALL-ROUNDER</td>\n",
       "      <td>NaN</td>\n",
       "      <td>NaN</td>\n",
       "      <td>KKR</td>\n",
       "      <td>Unsold</td>\n",
       "    </tr>\n",
       "    <tr>\n",
       "      <th>240</th>\n",
       "      <td>Amit Mishra</td>\n",
       "      <td>1.5 Cr</td>\n",
       "      <td>BOWLER</td>\n",
       "      <td>NaN</td>\n",
       "      <td>NaN</td>\n",
       "      <td>DC</td>\n",
       "      <td>Unsold</td>\n",
       "    </tr>\n",
       "    <tr>\n",
       "      <th>241</th>\n",
       "      <td>Adil Rashid</td>\n",
       "      <td>2 Cr</td>\n",
       "      <td>BOWLER</td>\n",
       "      <td>NaN</td>\n",
       "      <td>NaN</td>\n",
       "      <td>PBKS</td>\n",
       "      <td>Unsold</td>\n",
       "    </tr>\n",
       "    <tr>\n",
       "      <th>...</th>\n",
       "      <td>...</td>\n",
       "      <td>...</td>\n",
       "      <td>...</td>\n",
       "      <td>...</td>\n",
       "      <td>...</td>\n",
       "      <td>...</td>\n",
       "      <td>...</td>\n",
       "    </tr>\n",
       "    <tr>\n",
       "      <th>628</th>\n",
       "      <td>Sairaj Patil</td>\n",
       "      <td>20 Lakh</td>\n",
       "      <td>BATTER</td>\n",
       "      <td>NaN</td>\n",
       "      <td>NaN</td>\n",
       "      <td>NaN</td>\n",
       "      <td>Unsold</td>\n",
       "    </tr>\n",
       "    <tr>\n",
       "      <th>629</th>\n",
       "      <td>Monu Singh</td>\n",
       "      <td>20 Lakh</td>\n",
       "      <td>BOWLER</td>\n",
       "      <td>NaN</td>\n",
       "      <td>NaN</td>\n",
       "      <td>NaN</td>\n",
       "      <td>Unsold</td>\n",
       "    </tr>\n",
       "    <tr>\n",
       "      <th>630</th>\n",
       "      <td>Nivethan Radhakrishnan</td>\n",
       "      <td>20 Lakh</td>\n",
       "      <td>BOWLER</td>\n",
       "      <td>NaN</td>\n",
       "      <td>NaN</td>\n",
       "      <td>NaN</td>\n",
       "      <td>Unsold</td>\n",
       "    </tr>\n",
       "    <tr>\n",
       "      <th>631</th>\n",
       "      <td>Lance Morris</td>\n",
       "      <td>20 Lakh</td>\n",
       "      <td>BOWLER</td>\n",
       "      <td>NaN</td>\n",
       "      <td>NaN</td>\n",
       "      <td>NaN</td>\n",
       "      <td>Unsold</td>\n",
       "    </tr>\n",
       "    <tr>\n",
       "      <th>632</th>\n",
       "      <td>Aaron Hardie</td>\n",
       "      <td>20 Lakh</td>\n",
       "      <td>ALL-ROUNDER</td>\n",
       "      <td>NaN</td>\n",
       "      <td>NaN</td>\n",
       "      <td>NaN</td>\n",
       "      <td>Unsold</td>\n",
       "    </tr>\n",
       "  </tbody>\n",
       "</table>\n",
       "<p>396 rows × 7 columns</p>\n",
       "</div>"
      ],
      "text/plain": [
       "                     Player Base Price         TYPE  COST IN ₹ (CR.)  \\\n",
       "237            Suresh Raina       2 Cr       BATTER              NaN   \n",
       "238             Steve Smith       2 Cr       BATTER              NaN   \n",
       "239         Shakib Al Hasan       2 Cr  ALL-ROUNDER              NaN   \n",
       "240             Amit Mishra     1.5 Cr       BOWLER              NaN   \n",
       "241             Adil Rashid       2 Cr       BOWLER              NaN   \n",
       "..                      ...        ...          ...              ...   \n",
       "628            Sairaj Patil    20 Lakh       BATTER              NaN   \n",
       "629              Monu Singh    20 Lakh       BOWLER              NaN   \n",
       "630  Nivethan Radhakrishnan    20 Lakh       BOWLER              NaN   \n",
       "631            Lance Morris    20 Lakh       BOWLER              NaN   \n",
       "632            Aaron Hardie    20 Lakh  ALL-ROUNDER              NaN   \n",
       "\n",
       "     Cost IN $ (000) 2021 Squad    Team  \n",
       "237              NaN        CSK  Unsold  \n",
       "238              NaN         DC  Unsold  \n",
       "239              NaN        KKR  Unsold  \n",
       "240              NaN         DC  Unsold  \n",
       "241              NaN       PBKS  Unsold  \n",
       "..               ...        ...     ...  \n",
       "628              NaN        NaN  Unsold  \n",
       "629              NaN        NaN  Unsold  \n",
       "630              NaN        NaN  Unsold  \n",
       "631              NaN        NaN  Unsold  \n",
       "632              NaN        NaN  Unsold  \n",
       "\n",
       "[396 rows x 7 columns]"
      ]
     },
     "execution_count": 212,
     "metadata": {},
     "output_type": "execute_result"
    }
   ],
   "source": [
    "ipl[ipl['Cost IN $ (000)'].isnull()]"
   ]
  },
  {
   "cell_type": "code",
   "execution_count": 213,
   "id": "55467a1d",
   "metadata": {},
   "outputs": [],
   "source": [
    "ipl['COST IN ₹ (CR.)']=ipl['COST IN ₹ (CR.)'].fillna(0)\n",
    "ipl['Cost IN $ (000)']=ipl['Cost IN $ (000)'].fillna(0)\n",
    "\n"
   ]
  },
  {
   "cell_type": "code",
   "execution_count": 177,
   "id": "1794faaa",
   "metadata": {},
   "outputs": [
    {
     "data": {
      "text/plain": [
       "Player               0\n",
       "Base Price           0\n",
       "TYPE                 0\n",
       "COST IN ₹ (CR.)      0\n",
       "Cost IN $ (000)      0\n",
       "2021 Squad         434\n",
       "Team                 0\n",
       "dtype: int64"
      ]
     },
     "execution_count": 177,
     "metadata": {},
     "output_type": "execute_result"
    }
   ],
   "source": [
    "ipl.isnull().sum()"
   ]
  },
  {
   "cell_type": "code",
   "execution_count": 214,
   "id": "f39c9a70",
   "metadata": {},
   "outputs": [
    {
     "data": {
      "text/html": [
       "<div>\n",
       "<style scoped>\n",
       "    .dataframe tbody tr th:only-of-type {\n",
       "        vertical-align: middle;\n",
       "    }\n",
       "\n",
       "    .dataframe tbody tr th {\n",
       "        vertical-align: top;\n",
       "    }\n",
       "\n",
       "    .dataframe thead th {\n",
       "        text-align: right;\n",
       "    }\n",
       "</style>\n",
       "<table border=\"1\" class=\"dataframe\">\n",
       "  <thead>\n",
       "    <tr style=\"text-align: right;\">\n",
       "      <th></th>\n",
       "      <th>Player</th>\n",
       "      <th>Base Price</th>\n",
       "      <th>TYPE</th>\n",
       "      <th>COST IN ₹ (CR.)</th>\n",
       "      <th>Cost IN $ (000)</th>\n",
       "      <th>2021 Squad</th>\n",
       "      <th>Team</th>\n",
       "    </tr>\n",
       "  </thead>\n",
       "  <tbody>\n",
       "    <tr>\n",
       "      <th>6</th>\n",
       "      <td>Yash Dayal</td>\n",
       "      <td>20 Lakh</td>\n",
       "      <td>BOWLER</td>\n",
       "      <td>3.2</td>\n",
       "      <td>416.0</td>\n",
       "      <td>NaN</td>\n",
       "      <td>Gujarat Titans</td>\n",
       "    </tr>\n",
       "    <tr>\n",
       "      <th>9</th>\n",
       "      <td>Abhinav Sadarangani</td>\n",
       "      <td>20 Lakh</td>\n",
       "      <td>BATTER</td>\n",
       "      <td>2.6</td>\n",
       "      <td>338.0</td>\n",
       "      <td>NaN</td>\n",
       "      <td>Gujarat Titans</td>\n",
       "    </tr>\n",
       "    <tr>\n",
       "      <th>10</th>\n",
       "      <td>Matthew Wade</td>\n",
       "      <td>2 Cr</td>\n",
       "      <td>WICKETKEEPER</td>\n",
       "      <td>2.4</td>\n",
       "      <td>312.0</td>\n",
       "      <td>NaN</td>\n",
       "      <td>Gujarat Titans</td>\n",
       "    </tr>\n",
       "    <tr>\n",
       "      <th>11</th>\n",
       "      <td>Alzarri Joseph</td>\n",
       "      <td>75 Lakh</td>\n",
       "      <td>BOWLER</td>\n",
       "      <td>2.4</td>\n",
       "      <td>312.0</td>\n",
       "      <td>NaN</td>\n",
       "      <td>Gujarat Titans</td>\n",
       "    </tr>\n",
       "    <tr>\n",
       "      <th>17</th>\n",
       "      <td>Varun Aaron</td>\n",
       "      <td>50 Lakh</td>\n",
       "      <td>BOWLER</td>\n",
       "      <td>0.5</td>\n",
       "      <td>65.0</td>\n",
       "      <td>NaN</td>\n",
       "      <td>Gujarat Titans</td>\n",
       "    </tr>\n",
       "    <tr>\n",
       "      <th>...</th>\n",
       "      <td>...</td>\n",
       "      <td>...</td>\n",
       "      <td>...</td>\n",
       "      <td>...</td>\n",
       "      <td>...</td>\n",
       "      <td>...</td>\n",
       "      <td>...</td>\n",
       "    </tr>\n",
       "    <tr>\n",
       "      <th>628</th>\n",
       "      <td>Sairaj Patil</td>\n",
       "      <td>20 Lakh</td>\n",
       "      <td>BATTER</td>\n",
       "      <td>0.0</td>\n",
       "      <td>0.0</td>\n",
       "      <td>NaN</td>\n",
       "      <td>Unsold</td>\n",
       "    </tr>\n",
       "    <tr>\n",
       "      <th>629</th>\n",
       "      <td>Monu Singh</td>\n",
       "      <td>20 Lakh</td>\n",
       "      <td>BOWLER</td>\n",
       "      <td>0.0</td>\n",
       "      <td>0.0</td>\n",
       "      <td>NaN</td>\n",
       "      <td>Unsold</td>\n",
       "    </tr>\n",
       "    <tr>\n",
       "      <th>630</th>\n",
       "      <td>Nivethan Radhakrishnan</td>\n",
       "      <td>20 Lakh</td>\n",
       "      <td>BOWLER</td>\n",
       "      <td>0.0</td>\n",
       "      <td>0.0</td>\n",
       "      <td>NaN</td>\n",
       "      <td>Unsold</td>\n",
       "    </tr>\n",
       "    <tr>\n",
       "      <th>631</th>\n",
       "      <td>Lance Morris</td>\n",
       "      <td>20 Lakh</td>\n",
       "      <td>BOWLER</td>\n",
       "      <td>0.0</td>\n",
       "      <td>0.0</td>\n",
       "      <td>NaN</td>\n",
       "      <td>Unsold</td>\n",
       "    </tr>\n",
       "    <tr>\n",
       "      <th>632</th>\n",
       "      <td>Aaron Hardie</td>\n",
       "      <td>20 Lakh</td>\n",
       "      <td>ALL-ROUNDER</td>\n",
       "      <td>0.0</td>\n",
       "      <td>0.0</td>\n",
       "      <td>NaN</td>\n",
       "      <td>Unsold</td>\n",
       "    </tr>\n",
       "  </tbody>\n",
       "</table>\n",
       "<p>434 rows × 7 columns</p>\n",
       "</div>"
      ],
      "text/plain": [
       "                     Player Base Price          TYPE  COST IN ₹ (CR.)  \\\n",
       "6                Yash Dayal    20 Lakh        BOWLER              3.2   \n",
       "9       Abhinav Sadarangani    20 Lakh        BATTER              2.6   \n",
       "10             Matthew Wade       2 Cr  WICKETKEEPER              2.4   \n",
       "11           Alzarri Joseph    75 Lakh        BOWLER              2.4   \n",
       "17              Varun Aaron    50 Lakh        BOWLER              0.5   \n",
       "..                      ...        ...           ...              ...   \n",
       "628            Sairaj Patil    20 Lakh        BATTER              0.0   \n",
       "629              Monu Singh    20 Lakh        BOWLER              0.0   \n",
       "630  Nivethan Radhakrishnan    20 Lakh        BOWLER              0.0   \n",
       "631            Lance Morris    20 Lakh        BOWLER              0.0   \n",
       "632            Aaron Hardie    20 Lakh   ALL-ROUNDER              0.0   \n",
       "\n",
       "     Cost IN $ (000) 2021 Squad            Team  \n",
       "6              416.0        NaN  Gujarat Titans  \n",
       "9              338.0        NaN  Gujarat Titans  \n",
       "10             312.0        NaN  Gujarat Titans  \n",
       "11             312.0        NaN  Gujarat Titans  \n",
       "17              65.0        NaN  Gujarat Titans  \n",
       "..               ...        ...             ...  \n",
       "628              0.0        NaN          Unsold  \n",
       "629              0.0        NaN          Unsold  \n",
       "630              0.0        NaN          Unsold  \n",
       "631              0.0        NaN          Unsold  \n",
       "632              0.0        NaN          Unsold  \n",
       "\n",
       "[434 rows x 7 columns]"
      ]
     },
     "execution_count": 214,
     "metadata": {},
     "output_type": "execute_result"
    }
   ],
   "source": [
    "ipl[ipl['2021 Squad'].isnull()]"
   ]
  },
  {
   "cell_type": "code",
   "execution_count": 215,
   "id": "a5ff59ed",
   "metadata": {},
   "outputs": [],
   "source": [
    "ipl['2021 Squad']=ipl['2021 Squad'].fillna('Not Participated')"
   ]
  },
  {
   "cell_type": "code",
   "execution_count": 216,
   "id": "349f3dad",
   "metadata": {},
   "outputs": [
    {
     "data": {
      "text/plain": [
       "Player             0\n",
       "Base Price         0\n",
       "TYPE               0\n",
       "COST IN ₹ (CR.)    0\n",
       "Cost IN $ (000)    0\n",
       "2021 Squad         0\n",
       "Team               0\n",
       "dtype: int64"
      ]
     },
     "execution_count": 216,
     "metadata": {},
     "output_type": "execute_result"
    }
   ],
   "source": [
    "ipl.isnull().sum()"
   ]
  },
  {
   "cell_type": "code",
   "execution_count": 217,
   "id": "c37c6df9",
   "metadata": {},
   "outputs": [
    {
     "data": {
      "text/plain": [
       "array(['Gujarat Titans', 'Chennai Super Kings', 'Delhi Capitals',\n",
       "       'Kolkata Knight Riders', 'Punjab Kings', 'Lucknow Super Giants',\n",
       "       'Mumbai Indians', 'Royal Challengers Bangalore',\n",
       "       'Rajasthan Royals', 'Sunrisers Hyderabad'], dtype=object)"
      ]
     },
     "execution_count": 217,
     "metadata": {},
     "output_type": "execute_result"
    }
   ],
   "source": [
    "teams = ipl[ipl['COST IN ₹ (CR.)']>0]['Team'].unique()\n",
    "teams"
   ]
  },
  {
   "cell_type": "code",
   "execution_count": 218,
   "id": "d7f234d6",
   "metadata": {},
   "outputs": [
    {
     "data": {
      "text/plain": [
       "(633, 8)"
      ]
     },
     "execution_count": 218,
     "metadata": {},
     "output_type": "execute_result"
    }
   ],
   "source": [
    "ipl['status']=ipl['Team'].replace(teams,'sold')\n",
    "ipl.shape\n"
   ]
  },
  {
   "cell_type": "code",
   "execution_count": 219,
   "id": "a908ddb3",
   "metadata": {},
   "outputs": [
    {
     "data": {
      "text/html": [
       "<div>\n",
       "<style scoped>\n",
       "    .dataframe tbody tr th:only-of-type {\n",
       "        vertical-align: middle;\n",
       "    }\n",
       "\n",
       "    .dataframe tbody tr th {\n",
       "        vertical-align: top;\n",
       "    }\n",
       "\n",
       "    .dataframe thead th {\n",
       "        text-align: right;\n",
       "    }\n",
       "</style>\n",
       "<table border=\"1\" class=\"dataframe\">\n",
       "  <thead>\n",
       "    <tr style=\"text-align: right;\">\n",
       "      <th></th>\n",
       "      <th>Player</th>\n",
       "      <th>Base Price</th>\n",
       "      <th>TYPE</th>\n",
       "      <th>COST IN ₹ (CR.)</th>\n",
       "      <th>Cost IN $ (000)</th>\n",
       "      <th>2021 Squad</th>\n",
       "      <th>Team</th>\n",
       "      <th>status</th>\n",
       "    </tr>\n",
       "  </thead>\n",
       "  <tbody>\n",
       "    <tr>\n",
       "      <th>0</th>\n",
       "      <td>Rashid Khan</td>\n",
       "      <td>Draft Pick</td>\n",
       "      <td>BOWLER</td>\n",
       "      <td>15.0</td>\n",
       "      <td>1950.0</td>\n",
       "      <td>SRH</td>\n",
       "      <td>Gujarat Titans</td>\n",
       "      <td>sold</td>\n",
       "    </tr>\n",
       "    <tr>\n",
       "      <th>1</th>\n",
       "      <td>Hardik Pandya</td>\n",
       "      <td>Draft Pick</td>\n",
       "      <td>ALL-ROUNDER</td>\n",
       "      <td>15.0</td>\n",
       "      <td>1950.0</td>\n",
       "      <td>MI</td>\n",
       "      <td>Gujarat Titans</td>\n",
       "      <td>sold</td>\n",
       "    </tr>\n",
       "    <tr>\n",
       "      <th>2</th>\n",
       "      <td>Lockie Ferguson</td>\n",
       "      <td>2 Cr</td>\n",
       "      <td>BOWLER</td>\n",
       "      <td>10.0</td>\n",
       "      <td>1300.0</td>\n",
       "      <td>KKR</td>\n",
       "      <td>Gujarat Titans</td>\n",
       "      <td>sold</td>\n",
       "    </tr>\n",
       "    <tr>\n",
       "      <th>3</th>\n",
       "      <td>Rahul Tewatia</td>\n",
       "      <td>40 Lakh</td>\n",
       "      <td>ALL-ROUNDER</td>\n",
       "      <td>9.0</td>\n",
       "      <td>1170.0</td>\n",
       "      <td>RR</td>\n",
       "      <td>Gujarat Titans</td>\n",
       "      <td>sold</td>\n",
       "    </tr>\n",
       "    <tr>\n",
       "      <th>4</th>\n",
       "      <td>Shubman Gill</td>\n",
       "      <td>Draft Pick</td>\n",
       "      <td>BATTER</td>\n",
       "      <td>8.0</td>\n",
       "      <td>1040.0</td>\n",
       "      <td>KKR</td>\n",
       "      <td>Gujarat Titans</td>\n",
       "      <td>sold</td>\n",
       "    </tr>\n",
       "  </tbody>\n",
       "</table>\n",
       "</div>"
      ],
      "text/plain": [
       "            Player  Base Price         TYPE  COST IN ₹ (CR.)  Cost IN $ (000)  \\\n",
       "0      Rashid Khan  Draft Pick       BOWLER             15.0           1950.0   \n",
       "1    Hardik Pandya  Draft Pick  ALL-ROUNDER             15.0           1950.0   \n",
       "2  Lockie Ferguson        2 Cr       BOWLER             10.0           1300.0   \n",
       "3    Rahul Tewatia     40 Lakh  ALL-ROUNDER              9.0           1170.0   \n",
       "4     Shubman Gill  Draft Pick       BATTER              8.0           1040.0   \n",
       "\n",
       "  2021 Squad            Team status  \n",
       "0        SRH  Gujarat Titans   sold  \n",
       "1         MI  Gujarat Titans   sold  \n",
       "2        KKR  Gujarat Titans   sold  \n",
       "3         RR  Gujarat Titans   sold  \n",
       "4        KKR  Gujarat Titans   sold  "
      ]
     },
     "execution_count": 219,
     "metadata": {},
     "output_type": "execute_result"
    }
   ],
   "source": [
    "ipl.head()"
   ]
  },
  {
   "cell_type": "code",
   "execution_count": 220,
   "id": "d4f9f245",
   "metadata": {},
   "outputs": [
    {
     "data": {
      "text/html": [
       "<div>\n",
       "<style scoped>\n",
       "    .dataframe tbody tr th:only-of-type {\n",
       "        vertical-align: middle;\n",
       "    }\n",
       "\n",
       "    .dataframe tbody tr th {\n",
       "        vertical-align: top;\n",
       "    }\n",
       "\n",
       "    .dataframe thead th {\n",
       "        text-align: right;\n",
       "    }\n",
       "</style>\n",
       "<table border=\"1\" class=\"dataframe\">\n",
       "  <thead>\n",
       "    <tr style=\"text-align: right;\">\n",
       "      <th></th>\n",
       "      <th>Player</th>\n",
       "      <th>Base Price</th>\n",
       "      <th>TYPE</th>\n",
       "      <th>COST IN ₹ (CR.)</th>\n",
       "      <th>Cost IN $ (000)</th>\n",
       "      <th>2021 Squad</th>\n",
       "      <th>Team</th>\n",
       "      <th>status</th>\n",
       "    </tr>\n",
       "  </thead>\n",
       "  <tbody>\n",
       "    <tr>\n",
       "      <th>62</th>\n",
       "      <td>Lalit Yadav</td>\n",
       "      <td>20 Lakh</td>\n",
       "      <td>ALL-ROUNDER</td>\n",
       "      <td>0.65</td>\n",
       "      <td>84.5</td>\n",
       "      <td>DC</td>\n",
       "      <td>Delhi Capitals</td>\n",
       "      <td>sold</td>\n",
       "    </tr>\n",
       "    <tr>\n",
       "      <th>240</th>\n",
       "      <td>Amit Mishra</td>\n",
       "      <td>1.5 Cr</td>\n",
       "      <td>BOWLER</td>\n",
       "      <td>0.00</td>\n",
       "      <td>0.0</td>\n",
       "      <td>DC</td>\n",
       "      <td>Unsold</td>\n",
       "      <td>Unsold</td>\n",
       "    </tr>\n",
       "    <tr>\n",
       "      <th>499</th>\n",
       "      <td>Amit Mishra</td>\n",
       "      <td>20 Lakh</td>\n",
       "      <td>BOWLER</td>\n",
       "      <td>0.00</td>\n",
       "      <td>0.0</td>\n",
       "      <td>Not Participated</td>\n",
       "      <td>Unsold</td>\n",
       "      <td>Unsold</td>\n",
       "    </tr>\n",
       "    <tr>\n",
       "      <th>518</th>\n",
       "      <td>Shivam Sharma</td>\n",
       "      <td>20 Lakh</td>\n",
       "      <td>ALL-ROUNDER</td>\n",
       "      <td>0.00</td>\n",
       "      <td>0.0</td>\n",
       "      <td>Not Participated</td>\n",
       "      <td>Unsold</td>\n",
       "      <td>Unsold</td>\n",
       "    </tr>\n",
       "    <tr>\n",
       "      <th>530</th>\n",
       "      <td>Lalit Yadav</td>\n",
       "      <td>20 Lakh</td>\n",
       "      <td>BOWLER</td>\n",
       "      <td>0.00</td>\n",
       "      <td>0.0</td>\n",
       "      <td>Not Participated</td>\n",
       "      <td>Unsold</td>\n",
       "      <td>Unsold</td>\n",
       "    </tr>\n",
       "    <tr>\n",
       "      <th>537</th>\n",
       "      <td>Shubham Singh</td>\n",
       "      <td>20 Lakh</td>\n",
       "      <td>ALL-ROUNDER</td>\n",
       "      <td>0.00</td>\n",
       "      <td>0.0</td>\n",
       "      <td>Not Participated</td>\n",
       "      <td>Unsold</td>\n",
       "      <td>Unsold</td>\n",
       "    </tr>\n",
       "    <tr>\n",
       "      <th>544</th>\n",
       "      <td>Shubham Singh</td>\n",
       "      <td>20 Lakh</td>\n",
       "      <td>BOWLER</td>\n",
       "      <td>0.00</td>\n",
       "      <td>0.0</td>\n",
       "      <td>Not Participated</td>\n",
       "      <td>Unsold</td>\n",
       "      <td>Unsold</td>\n",
       "    </tr>\n",
       "    <tr>\n",
       "      <th>569</th>\n",
       "      <td>Shivam Sharma</td>\n",
       "      <td>20 Lakh</td>\n",
       "      <td>ALL-ROUNDER</td>\n",
       "      <td>0.00</td>\n",
       "      <td>0.0</td>\n",
       "      <td>Not Participated</td>\n",
       "      <td>Unsold</td>\n",
       "      <td>Unsold</td>\n",
       "    </tr>\n",
       "  </tbody>\n",
       "</table>\n",
       "</div>"
      ],
      "text/plain": [
       "            Player Base Price         TYPE  COST IN ₹ (CR.)  Cost IN $ (000)  \\\n",
       "62     Lalit Yadav    20 Lakh  ALL-ROUNDER             0.65             84.5   \n",
       "240    Amit Mishra     1.5 Cr       BOWLER             0.00              0.0   \n",
       "499    Amit Mishra    20 Lakh       BOWLER             0.00              0.0   \n",
       "518  Shivam Sharma    20 Lakh  ALL-ROUNDER             0.00              0.0   \n",
       "530    Lalit Yadav    20 Lakh       BOWLER             0.00              0.0   \n",
       "537  Shubham Singh    20 Lakh  ALL-ROUNDER             0.00              0.0   \n",
       "544  Shubham Singh    20 Lakh       BOWLER             0.00              0.0   \n",
       "569  Shivam Sharma    20 Lakh  ALL-ROUNDER             0.00              0.0   \n",
       "\n",
       "           2021 Squad            Team  status  \n",
       "62                 DC  Delhi Capitals    sold  \n",
       "240                DC          Unsold  Unsold  \n",
       "499  Not Participated          Unsold  Unsold  \n",
       "518  Not Participated          Unsold  Unsold  \n",
       "530  Not Participated          Unsold  Unsold  \n",
       "537  Not Participated          Unsold  Unsold  \n",
       "544  Not Participated          Unsold  Unsold  \n",
       "569  Not Participated          Unsold  Unsold  "
      ]
     },
     "execution_count": 220,
     "metadata": {},
     "output_type": "execute_result"
    }
   ],
   "source": [
    "ipl[ipl['Player'].duplicated(keep=False)]"
   ]
  },
  {
   "cell_type": "code",
   "execution_count": 221,
   "id": "6c28dda6",
   "metadata": {},
   "outputs": [
    {
     "data": {
      "text/plain": [
       "633"
      ]
     },
     "execution_count": 221,
     "metadata": {},
     "output_type": "execute_result"
    }
   ],
   "source": [
    "#how many players have participated in 2022 IPL auction?\n",
    "\n",
    "ipl.shape[0]"
   ]
  },
  {
   "cell_type": "code",
   "execution_count": 222,
   "id": "13a163af",
   "metadata": {},
   "outputs": [
    {
     "data": {
      "text/html": [
       "<div>\n",
       "<style scoped>\n",
       "    .dataframe tbody tr th:only-of-type {\n",
       "        vertical-align: middle;\n",
       "    }\n",
       "\n",
       "    .dataframe tbody tr th {\n",
       "        vertical-align: top;\n",
       "    }\n",
       "\n",
       "    .dataframe thead th {\n",
       "        text-align: right;\n",
       "    }\n",
       "</style>\n",
       "<table border=\"1\" class=\"dataframe\">\n",
       "  <thead>\n",
       "    <tr style=\"text-align: right;\">\n",
       "      <th></th>\n",
       "      <th>index</th>\n",
       "      <th>TYPE</th>\n",
       "    </tr>\n",
       "  </thead>\n",
       "  <tbody>\n",
       "    <tr>\n",
       "      <th>0</th>\n",
       "      <td>ALL-ROUNDER</td>\n",
       "      <td>242</td>\n",
       "    </tr>\n",
       "    <tr>\n",
       "      <th>1</th>\n",
       "      <td>BOWLER</td>\n",
       "      <td>215</td>\n",
       "    </tr>\n",
       "    <tr>\n",
       "      <th>2</th>\n",
       "      <td>BATTER</td>\n",
       "      <td>112</td>\n",
       "    </tr>\n",
       "    <tr>\n",
       "      <th>3</th>\n",
       "      <td>WICKETKEEPER</td>\n",
       "      <td>64</td>\n",
       "    </tr>\n",
       "  </tbody>\n",
       "</table>\n",
       "</div>"
      ],
      "text/plain": [
       "          index  TYPE\n",
       "0   ALL-ROUNDER   242\n",
       "1        BOWLER   215\n",
       "2        BATTER   112\n",
       "3  WICKETKEEPER    64"
      ]
     },
     "execution_count": 222,
     "metadata": {},
     "output_type": "execute_result"
    }
   ],
   "source": [
    "#how many types of players have participated?\n",
    "\n",
    "types = ipl['TYPE'].value_counts()\n",
    "types.reset_index()"
   ]
  },
  {
   "cell_type": "code",
   "execution_count": 223,
   "id": "badd886e",
   "metadata": {},
   "outputs": [
    {
     "data": {
      "text/plain": [
       "[]"
      ]
     },
     "execution_count": 223,
     "metadata": {},
     "output_type": "execute_result"
    },
    {
     "data": {
      "image/png": "[encoded data removed]",
      "text/plain": [
       "<Figure size 432x288 with 1 Axes>"
      ]
     },
     "metadata": {},
     "output_type": "display_data"
    }
   ],
   "source": [
    "plt.pie(types.values,labels=types.index,labeldistance=1.2,autopct='%1.2f%%',shadow=True,startangle=60)\n",
    "\n",
    "plt.title('Role of Players Participated',fontsize = 15)\n",
    "\n",
    "plt.plot()"
   ]
  },
  {
   "cell_type": "code",
   "execution_count": 224,
   "id": "b5d6b2dc",
   "metadata": {},
   "outputs": [
    {
     "data": {
      "image/png": "[encoded data removed]",
      "text/plain": [
       "<Figure size 720x360 with 1 Axes>"
      ]
     },
     "metadata": {
      "needs_background": "light"
     },
     "output_type": "display_data"
    }
   ],
   "source": [
    "plt.figure(figsize=(10,5))\n",
    "fig=sns.countplot(ipl['status'],palette=['Red','Blue'])\n",
    "plt.xlabel('Sold or Unsold')\n",
    "plt.ylabel('Number of Players')\n",
    "plt.title('Sold v Unsold', fontsize=15)\n",
    "plt.plot()\n",
    "\n",
    "for p in fig.patches:\n",
    "    fig.annotate(format(p.get_height(),'.0f'),(p.get_x()+p.get_width()/2.,p.get_height()),ha='center',va='center',xytext=(0,4),textcoords='offset points')"
   ]
  },
  {
   "cell_type": "code",
   "execution_count": 225,
   "id": "56b382ba",
   "metadata": {},
   "outputs": [
    {
     "data": {
      "text/plain": [
       "status\n",
       "Unsold    396\n",
       "sold      237\n",
       "Name: Player, dtype: int64"
      ]
     },
     "execution_count": 225,
     "metadata": {},
     "output_type": "execute_result"
    }
   ],
   "source": [
    "ipl.groupby('status')['Player'].count()"
   ]
  },
  {
   "cell_type": "code",
   "execution_count": 190,
   "id": "a063ff6c",
   "metadata": {},
   "outputs": [
    {
     "data": {
      "image/png": "[encoded data removed]",
      "text/plain": [
       "<Figure size 1440x720 with 1 Axes>"
      ]
     },
     "metadata": {
      "needs_background": "light"
     },
     "output_type": "display_data"
    }
   ],
   "source": [
    "#Total number of players bought by each team.\n",
    "\n",
    "plt.figure(figsize=(20,10))\n",
    "fig=sns.countplot(ipl[ipl['Team']!='Unsold'][\"Team\"])\n",
    "plt.xlabel('Team Names',fontsize=12)\n",
    "plt.ylabel('Number of Players',fontsize=12)\n",
    "plt.title('Players Bought by Each Team', fontsize=16)\n",
    "plt.xticks(rotation=70)\n",
    "plt.plot()\n",
    "\n",
    "for p in fig.patches:\n",
    "    fig.annotate(format(p.get_height(),'.0f'),(p.get_x()+ p.get_width()/2.,p.get_height()),ha='center',va='center',xytext=(0,4),textcoords='offset points')"
   ]
  },
  {
   "cell_type": "code",
   "execution_count": 226,
   "id": "1e6a4417",
   "metadata": {},
   "outputs": [],
   "source": [
    "ipl['retention']=ipl['Base Price']"
   ]
  },
  {
   "cell_type": "code",
   "execution_count": 234,
   "id": "a7efd002",
   "metadata": {},
   "outputs": [],
   "source": [
    "ipl['retention'].replace(['2 Cr','40 Lakh','20 Lakh','1 Cr','75 Lakh','50 Lakh','30 Lakh','1.5 Cr'],'From Auction',inplace=True)"
   ]
  },
  {
   "cell_type": "code",
   "execution_count": 235,
   "id": "63db4c44",
   "metadata": {},
   "outputs": [],
   "source": [
    "ipl['Base Price'].replace('Draft Pick',0,inplace=True)"
   ]
  },
  {
   "cell_type": "code",
   "execution_count": 236,
   "id": "ac9f3aa7",
   "metadata": {},
   "outputs": [],
   "source": [
    "#treating base price\n",
    "\n",
    "ipl['base_price_unit']=ipl['Base Price'].apply(lambda x: str(x).split(' ')[-1])\n",
    "ipl['base_price']=ipl['Base Price'].apply(lambda x: str(x).split(' ')[0])"
   ]
  },
  {
   "cell_type": "code",
   "execution_count": 237,
   "id": "74949741",
   "metadata": {},
   "outputs": [],
   "source": [
    "ipl['base_price'].replace('Retained',0,inplace=True)"
   ]
  },
  {
   "cell_type": "code",
   "execution_count": 238,
   "id": "1ca4743a",
   "metadata": {},
   "outputs": [
    {
     "data": {
      "text/html": [
       "<div>\n",
       "<style scoped>\n",
       "    .dataframe tbody tr th:only-of-type {\n",
       "        vertical-align: middle;\n",
       "    }\n",
       "\n",
       "    .dataframe tbody tr th {\n",
       "        vertical-align: top;\n",
       "    }\n",
       "\n",
       "    .dataframe thead th {\n",
       "        text-align: right;\n",
       "    }\n",
       "</style>\n",
       "<table border=\"1\" class=\"dataframe\">\n",
       "  <thead>\n",
       "    <tr style=\"text-align: right;\">\n",
       "      <th></th>\n",
       "      <th>Player</th>\n",
       "      <th>Base Price</th>\n",
       "      <th>TYPE</th>\n",
       "      <th>COST IN ₹ (CR.)</th>\n",
       "      <th>Cost IN $ (000)</th>\n",
       "      <th>2021 Squad</th>\n",
       "      <th>Team</th>\n",
       "      <th>status</th>\n",
       "      <th>retention</th>\n",
       "      <th>base_price_unit</th>\n",
       "      <th>base_price</th>\n",
       "    </tr>\n",
       "  </thead>\n",
       "  <tbody>\n",
       "    <tr>\n",
       "      <th>0</th>\n",
       "      <td>Rashid Khan</td>\n",
       "      <td>0</td>\n",
       "      <td>BOWLER</td>\n",
       "      <td>15.0</td>\n",
       "      <td>1950.0</td>\n",
       "      <td>SRH</td>\n",
       "      <td>Gujarat Titans</td>\n",
       "      <td>sold</td>\n",
       "      <td>Draft Pick</td>\n",
       "      <td>0</td>\n",
       "      <td>0</td>\n",
       "    </tr>\n",
       "    <tr>\n",
       "      <th>1</th>\n",
       "      <td>Hardik Pandya</td>\n",
       "      <td>0</td>\n",
       "      <td>ALL-ROUNDER</td>\n",
       "      <td>15.0</td>\n",
       "      <td>1950.0</td>\n",
       "      <td>MI</td>\n",
       "      <td>Gujarat Titans</td>\n",
       "      <td>sold</td>\n",
       "      <td>Draft Pick</td>\n",
       "      <td>0</td>\n",
       "      <td>0</td>\n",
       "    </tr>\n",
       "    <tr>\n",
       "      <th>2</th>\n",
       "      <td>Lockie Ferguson</td>\n",
       "      <td>2 Cr</td>\n",
       "      <td>BOWLER</td>\n",
       "      <td>10.0</td>\n",
       "      <td>1300.0</td>\n",
       "      <td>KKR</td>\n",
       "      <td>Gujarat Titans</td>\n",
       "      <td>sold</td>\n",
       "      <td>From Auction</td>\n",
       "      <td>Cr</td>\n",
       "      <td>2</td>\n",
       "    </tr>\n",
       "    <tr>\n",
       "      <th>3</th>\n",
       "      <td>Rahul Tewatia</td>\n",
       "      <td>40 Lakh</td>\n",
       "      <td>ALL-ROUNDER</td>\n",
       "      <td>9.0</td>\n",
       "      <td>1170.0</td>\n",
       "      <td>RR</td>\n",
       "      <td>Gujarat Titans</td>\n",
       "      <td>sold</td>\n",
       "      <td>From Auction</td>\n",
       "      <td>Lakh</td>\n",
       "      <td>40</td>\n",
       "    </tr>\n",
       "    <tr>\n",
       "      <th>4</th>\n",
       "      <td>Shubman Gill</td>\n",
       "      <td>0</td>\n",
       "      <td>BATTER</td>\n",
       "      <td>8.0</td>\n",
       "      <td>1040.0</td>\n",
       "      <td>KKR</td>\n",
       "      <td>Gujarat Titans</td>\n",
       "      <td>sold</td>\n",
       "      <td>Draft Pick</td>\n",
       "      <td>0</td>\n",
       "      <td>0</td>\n",
       "    </tr>\n",
       "  </tbody>\n",
       "</table>\n",
       "</div>"
      ],
      "text/plain": [
       "            Player Base Price         TYPE  COST IN ₹ (CR.)  Cost IN $ (000)  \\\n",
       "0      Rashid Khan          0       BOWLER             15.0           1950.0   \n",
       "1    Hardik Pandya          0  ALL-ROUNDER             15.0           1950.0   \n",
       "2  Lockie Ferguson       2 Cr       BOWLER             10.0           1300.0   \n",
       "3    Rahul Tewatia    40 Lakh  ALL-ROUNDER              9.0           1170.0   \n",
       "4     Shubman Gill          0       BATTER              8.0           1040.0   \n",
       "\n",
       "  2021 Squad            Team status     retention base_price_unit base_price  \n",
       "0        SRH  Gujarat Titans   sold    Draft Pick               0          0  \n",
       "1         MI  Gujarat Titans   sold    Draft Pick               0          0  \n",
       "2        KKR  Gujarat Titans   sold  From Auction              Cr          2  \n",
       "3         RR  Gujarat Titans   sold  From Auction            Lakh         40  \n",
       "4        KKR  Gujarat Titans   sold    Draft Pick               0          0  "
      ]
     },
     "execution_count": 238,
     "metadata": {},
     "output_type": "execute_result"
    }
   ],
   "source": [
    "ipl.head()"
   ]
  },
  {
   "cell_type": "code",
   "execution_count": 239,
   "id": "e19174e7",
   "metadata": {},
   "outputs": [
    {
     "data": {
      "text/plain": [
       "Team                         retention   \n",
       "Chennai Super Kings          From Auction    21\n",
       "                             Retained         4\n",
       "Delhi Capitals               From Auction    20\n",
       "                             Retained         4\n",
       "Gujarat Titans               Draft Pick       3\n",
       "                             From Auction    19\n",
       "Kolkata Knight Riders        From Auction    21\n",
       "                             Retained         4\n",
       "Lucknow Super Giants         Draft Pick       3\n",
       "                             From Auction    19\n",
       "Mumbai Indians               From Auction    21\n",
       "                             Retained         4\n",
       "Punjab Kings                 From Auction    23\n",
       "                             Retained         2\n",
       "Rajasthan Royals             From Auction    21\n",
       "                             Retained         3\n",
       "Royal Challengers Bangalore  From Auction    19\n",
       "                             Retained         3\n",
       "Sunrisers Hyderabad          From Auction    20\n",
       "                             Retained         3\n",
       "Name: retention, dtype: int64"
      ]
     },
     "execution_count": 239,
     "metadata": {},
     "output_type": "execute_result"
    }
   ],
   "source": [
    "ipl.groupby(['Team','retention'])['retention'].count()[:-1]"
   ]
  },
  {
   "cell_type": "code",
   "execution_count": 240,
   "id": "f698b8fc",
   "metadata": {},
   "outputs": [
    {
     "data": {
      "text/plain": [
       "(array([0, 1, 2, 3, 4, 5, 6, 7, 8, 9]),\n",
       " [Text(0, 0, 'Gujarat Titans'),\n",
       "  Text(1, 0, 'Chennai Super Kings'),\n",
       "  Text(2, 0, 'Delhi Capitals'),\n",
       "  Text(3, 0, 'Kolkata Knight Riders'),\n",
       "  Text(4, 0, 'Punjab Kings'),\n",
       "  Text(5, 0, 'Lucknow Super Giants'),\n",
       "  Text(6, 0, 'Mumbai Indians'),\n",
       "  Text(7, 0, 'Royal Challengers Bangalore'),\n",
       "  Text(8, 0, 'Rajasthan Royals'),\n",
       "  Text(9, 0, 'Sunrisers Hyderabad')])"
      ]
     },
     "execution_count": 240,
     "metadata": {},
     "output_type": "execute_result"
    },
    {
     "data": {
      "image/png": "[encoded data removed]",
      "text/plain": [
       "<Figure size 1440x720 with 1 Axes>"
      ]
     },
     "metadata": {
      "needs_background": "light"
     },
     "output_type": "display_data"
    }
   ],
   "source": [
    "plt.figure(figsize=(20,10))\n",
    "fig = sns.countplot(ipl[ipl['Team']!='Unsold']['Team'],hue=ipl['TYPE'])\n",
    "plt.title('Players in Each Team')\n",
    "plt.xlabel('Team Names')\n",
    "plt.ylabel('Number of Players')\n",
    "plt.xticks (rotation=50)"
   ]
  },
  {
   "cell_type": "code",
   "execution_count": 241,
   "id": "2c32e521",
   "metadata": {},
   "outputs": [
    {
     "data": {
      "text/plain": [
       "Team\n",
       "Mumbai Indians                 15.25\n",
       "Chennai Super Kings            14.00\n",
       "Kolkata Knight Riders          12.25\n",
       "Punjab Kings                   11.50\n",
       "Delhi Capitals                 10.75\n",
       "Royal Challengers Bangalore    10.75\n",
       "Sunrisers Hyderabad            10.75\n",
       "Gujarat Titans                 10.00\n",
       "Lucknow Super Giants           10.00\n",
       "Rajasthan Royals               10.00\n",
       "Name: COST IN ₹ (CR.), dtype: float64"
      ]
     },
     "execution_count": 241,
     "metadata": {},
     "output_type": "execute_result"
    }
   ],
   "source": [
    "ipl[ipl['retention']=='From Auction'].groupby(['Team'])['COST IN ₹ (CR.)'].max()[:-1].sort_values(ascending=False)"
   ]
  },
  {
   "cell_type": "code",
   "execution_count": 243,
   "id": "007b91db",
   "metadata": {},
   "outputs": [
    {
     "data": {
      "text/html": [
       "<div>\n",
       "<style scoped>\n",
       "    .dataframe tbody tr th:only-of-type {\n",
       "        vertical-align: middle;\n",
       "    }\n",
       "\n",
       "    .dataframe tbody tr th {\n",
       "        vertical-align: top;\n",
       "    }\n",
       "\n",
       "    .dataframe thead th {\n",
       "        text-align: right;\n",
       "    }\n",
       "</style>\n",
       "<table border=\"1\" class=\"dataframe\">\n",
       "  <thead>\n",
       "    <tr style=\"text-align: right;\">\n",
       "      <th></th>\n",
       "      <th>Player</th>\n",
       "      <th>Base Price</th>\n",
       "      <th>TYPE</th>\n",
       "      <th>COST IN ₹ (CR.)</th>\n",
       "      <th>Cost IN $ (000)</th>\n",
       "      <th>2021 Squad</th>\n",
       "      <th>Team</th>\n",
       "      <th>status</th>\n",
       "      <th>retention</th>\n",
       "      <th>base_price_unit</th>\n",
       "      <th>base_price</th>\n",
       "    </tr>\n",
       "  </thead>\n",
       "  <tbody>\n",
       "    <tr>\n",
       "      <th>22</th>\n",
       "      <td>Ravindra Jadeja</td>\n",
       "      <td>Retained</td>\n",
       "      <td>ALL-ROUNDER</td>\n",
       "      <td>16.0</td>\n",
       "      <td>2080.0</td>\n",
       "      <td>CSK</td>\n",
       "      <td>Chennai Super Kings</td>\n",
       "      <td>sold</td>\n",
       "      <td>Retained</td>\n",
       "      <td>Retained</td>\n",
       "      <td>0</td>\n",
       "    </tr>\n",
       "  </tbody>\n",
       "</table>\n",
       "</div>"
      ],
      "text/plain": [
       "             Player Base Price         TYPE  COST IN ₹ (CR.)  Cost IN $ (000)  \\\n",
       "22  Ravindra Jadeja   Retained  ALL-ROUNDER             16.0           2080.0   \n",
       "\n",
       "   2021 Squad                 Team status retention base_price_unit base_price  \n",
       "22        CSK  Chennai Super Kings   sold  Retained        Retained          0  "
      ]
     },
     "execution_count": 243,
     "metadata": {},
     "output_type": "execute_result"
    }
   ],
   "source": [
    "ipl[ipl['retention']=='Retained'].sort_values(by='COST IN ₹ (CR.)',ascending=False).head(1)"
   ]
  },
  {
   "cell_type": "code",
   "execution_count": 244,
   "id": "6f8ccd5f",
   "metadata": {},
   "outputs": [
    {
     "data": {
      "text/html": [
       "<div>\n",
       "<style scoped>\n",
       "    .dataframe tbody tr th:only-of-type {\n",
       "        vertical-align: middle;\n",
       "    }\n",
       "\n",
       "    .dataframe tbody tr th {\n",
       "        vertical-align: top;\n",
       "    }\n",
       "\n",
       "    .dataframe thead th {\n",
       "        text-align: right;\n",
       "    }\n",
       "</style>\n",
       "<table border=\"1\" class=\"dataframe\">\n",
       "  <thead>\n",
       "    <tr style=\"text-align: right;\">\n",
       "      <th></th>\n",
       "      <th>Player</th>\n",
       "      <th>Base Price</th>\n",
       "      <th>TYPE</th>\n",
       "      <th>COST IN ₹ (CR.)</th>\n",
       "      <th>Cost IN $ (000)</th>\n",
       "      <th>2021 Squad</th>\n",
       "      <th>Team</th>\n",
       "      <th>status</th>\n",
       "      <th>retention</th>\n",
       "      <th>base_price_unit</th>\n",
       "      <th>base_price</th>\n",
       "    </tr>\n",
       "  </thead>\n",
       "  <tbody>\n",
       "    <tr>\n",
       "      <th>23</th>\n",
       "      <td>Deepak Chahar</td>\n",
       "      <td>2 Cr</td>\n",
       "      <td>BOWLER</td>\n",
       "      <td>14.00</td>\n",
       "      <td>1820.0</td>\n",
       "      <td>CSK</td>\n",
       "      <td>Chennai Super Kings</td>\n",
       "      <td>sold</td>\n",
       "      <td>From Auction</td>\n",
       "      <td>Cr</td>\n",
       "      <td>2</td>\n",
       "    </tr>\n",
       "    <tr>\n",
       "      <th>48</th>\n",
       "      <td>Shardul Thakur</td>\n",
       "      <td>2 Cr</td>\n",
       "      <td>BOWLER</td>\n",
       "      <td>10.75</td>\n",
       "      <td>1397.5</td>\n",
       "      <td>CSK</td>\n",
       "      <td>Delhi Capitals</td>\n",
       "      <td>sold</td>\n",
       "      <td>From Auction</td>\n",
       "      <td>Cr</td>\n",
       "      <td>2</td>\n",
       "    </tr>\n",
       "    <tr>\n",
       "      <th>192</th>\n",
       "      <td>Prasidh Krishna</td>\n",
       "      <td>1 Cr</td>\n",
       "      <td>BOWLER</td>\n",
       "      <td>10.00</td>\n",
       "      <td>1300.0</td>\n",
       "      <td>KKR</td>\n",
       "      <td>Rajasthan Royals</td>\n",
       "      <td>sold</td>\n",
       "      <td>From Auction</td>\n",
       "      <td>Cr</td>\n",
       "      <td>1</td>\n",
       "    </tr>\n",
       "    <tr>\n",
       "      <th>2</th>\n",
       "      <td>Lockie Ferguson</td>\n",
       "      <td>2 Cr</td>\n",
       "      <td>BOWLER</td>\n",
       "      <td>10.00</td>\n",
       "      <td>1300.0</td>\n",
       "      <td>KKR</td>\n",
       "      <td>Gujarat Titans</td>\n",
       "      <td>sold</td>\n",
       "      <td>From Auction</td>\n",
       "      <td>Cr</td>\n",
       "      <td>2</td>\n",
       "    </tr>\n",
       "    <tr>\n",
       "      <th>122</th>\n",
       "      <td>Avesh Khan</td>\n",
       "      <td>20 Lakh</td>\n",
       "      <td>BOWLER</td>\n",
       "      <td>10.00</td>\n",
       "      <td>1300.0</td>\n",
       "      <td>DC</td>\n",
       "      <td>Lucknow Super Giants</td>\n",
       "      <td>sold</td>\n",
       "      <td>From Auction</td>\n",
       "      <td>Lakh</td>\n",
       "      <td>20</td>\n",
       "    </tr>\n",
       "  </tbody>\n",
       "</table>\n",
       "</div>"
      ],
      "text/plain": [
       "              Player Base Price    TYPE  COST IN ₹ (CR.)  Cost IN $ (000)  \\\n",
       "23     Deepak Chahar       2 Cr  BOWLER            14.00           1820.0   \n",
       "48    Shardul Thakur       2 Cr  BOWLER            10.75           1397.5   \n",
       "192  Prasidh Krishna       1 Cr  BOWLER            10.00           1300.0   \n",
       "2    Lockie Ferguson       2 Cr  BOWLER            10.00           1300.0   \n",
       "122       Avesh Khan    20 Lakh  BOWLER            10.00           1300.0   \n",
       "\n",
       "    2021 Squad                  Team status     retention base_price_unit  \\\n",
       "23         CSK   Chennai Super Kings   sold  From Auction              Cr   \n",
       "48         CSK        Delhi Capitals   sold  From Auction              Cr   \n",
       "192        KKR      Rajasthan Royals   sold  From Auction              Cr   \n",
       "2          KKR        Gujarat Titans   sold  From Auction              Cr   \n",
       "122         DC  Lucknow Super Giants   sold  From Auction            Lakh   \n",
       "\n",
       "    base_price  \n",
       "23           2  \n",
       "48           2  \n",
       "192          1  \n",
       "2            2  \n",
       "122         20  "
      ]
     },
     "execution_count": 244,
     "metadata": {},
     "output_type": "execute_result"
    }
   ],
   "source": [
    "ipl[(ipl['retention']=='From Auction')&(ipl['TYPE']=='BOWLER')].sort_values(by='COST IN ₹ (CR.)',ascending=False).head()"
   ]
  },
  {
   "cell_type": "code",
   "execution_count": 246,
   "id": "b9d10077",
   "metadata": {},
   "outputs": [],
   "source": [
    "ipl=ipl.rename(columns={'2021 Squad':'Prev_team'})\n",
    "    "
   ]
  },
  {
   "cell_type": "code",
   "execution_count": 247,
   "id": "a9880b68",
   "metadata": {},
   "outputs": [],
   "source": [
    "unsold_players = ipl[(ipl.Prev_team != \"Not Participated\")\n",
    "                    &(ipl.Team=='Unsold')][['Player','Prev_team']]"
   ]
  },
  {
   "cell_type": "code",
   "execution_count": 248,
   "id": "52a3c7c0",
   "metadata": {},
   "outputs": [
    {
     "name": "stdout",
     "output_type": "stream",
     "text": [
      "                      Player Prev_team\n",
      "237             Suresh Raina       CSK\n",
      "238              Steve Smith        DC\n",
      "239          Shakib Al Hasan       KKR\n",
      "240              Amit Mishra        DC\n",
      "241              Adil Rashid      PBKS\n",
      "242              Imran Tahir       CSK\n",
      "243            Mujeeb Zadran       SRH\n",
      "244               Adam Zampa       RCB\n",
      "245            Rajat Patidar       RCB\n",
      "246     Mohammed Azharuddeen       RCB\n",
      "249             M. Siddharth        DC\n",
      "252              Dawid Malan      PBKS\n",
      "253              Eoin Morgan       KKR\n",
      "254        Cheteshwar Pujara       CSK\n",
      "255           Saurabh Tiwary        MI\n",
      "257            Ishant Sharma        DC\n",
      "259            Piyush Chawla        MI\n",
      "260           Tabraiz Shamsi        RR\n",
      "262              Sachin Baby       RCB\n",
      "267              Virat Singh       SRH\n",
      "269              Akash Singh        RR\n",
      "273               Chris Lynn        MI\n",
      "276            George Garton       RCB\n",
      "288               Andrew Tye        RR\n",
      "289          Sandeep Warrier       KKR\n",
      "311        Shreevats Goswami       SRH\n",
      "313              Aditya Tare        MI\n",
      "317  Lukman Hussain Meriwala        DC\n",
      "325             Jalaj Saxena      PBKS\n",
      "337              Ben Cutting       KKR\n",
      "339         Moises Henriques      PBKS\n",
      "342         Scott Kuggeleijn       RCB\n",
      "343               Pawan Negi       KKR\n",
      "346          Dhawal Kulkarni        MI\n",
      "348          Kane Richardson       RCB\n",
      "404             Kedar Jadhav       SRH\n",
      "429           Yudhvir Charak        MI\n",
      "447       Kulwant Khejroliya        DC\n",
      "535           Anirudha Joshi        DC\n",
      "623          Agnivesh Ayachi      PBKS\n"
     ]
    }
   ],
   "source": [
    "print(unsold_players)"
   ]
  },
  {
   "cell_type": "code",
   "execution_count": null,
   "id": "abbeb231",
   "metadata": {},
   "outputs": [],
   "source": []
  }
 ],
 "metadata": {
  "kernelspec": {
   "display_name": "Python 3 (ipykernel)",
   "language": "python",
   "name": "python3"
  },
  "language_info": {
   "codemirror_mode": {
    "name": "ipython",
    "version": 3
   },
   "file_extension": ".py",
   "mimetype": "text/x-python",
   "name": "python",
   "nbconvert_exporter": "python",
   "pygments_lexer": "ipython3",
   "version": "3.10.4"
  }
 },
 "nbformat": 4,
 "nbformat_minor": 5
}
